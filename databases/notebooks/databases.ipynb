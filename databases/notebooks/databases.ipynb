{
 "cells": [
  {
   "cell_type": "markdown",
   "metadata": {},
   "source": [
    "# Databases\n",
    "\n",
    "## Table of contents\n",
    "\n",
    "1. [Engines and Connecting Strings](#Engines-and-Connecting-Strings)"
   ]
  },
  {
   "cell_type": "markdown",
   "metadata": {},
   "source": [
    "## Engines \n",
    "[[go back to the top]](#Table-of-contents)"
   ]
  },
  {
   "cell_type": "markdown",
   "metadata": {},
   "source": [
    "An engine requires information to connect with a database. This information is contained in a connection string such as:\n",
    "\n",
    "    sqlite:///census.sqlite\n",
    "    \n",
    "In this string:\n",
    "- `sqlite` is the database driver\n",
    "- `census.sqlite` is a `SQLite` file in our local directory\n",
    "\n",
    "`SQLAlchemy` is:\n",
    "> the Python SQL toolkit and Object Relational Mapper that gives application developers the full power and flexibility of SQL.\n",
    "\n",
    "We will:\n",
    "- Import `create_engine` from the `sqlalchemy` module.\n",
    "- Create an engine using the `create_engine()` function that connects to a local `SQLite` file named `census.sqlite` using `sqlite` as driver\n",
    "- Print the names of the tables it contains using the `.table_names()` method. "
   ]
  },
  {
   "cell_type": "code",
   "execution_count": 1,
   "metadata": {},
   "outputs": [],
   "source": [
    "from sqlalchemy import create_engine"
   ]
  },
  {
   "cell_type": "code",
   "execution_count": 2,
   "metadata": {},
   "outputs": [],
   "source": [
    "engine = create_engine('sqlite:///census.sqlite')"
   ]
  },
  {
   "cell_type": "code",
   "execution_count": 4,
   "metadata": {},
   "outputs": [
    {
     "name": "stdout",
     "output_type": "stream",
     "text": [
      "The database contains the following tables:\n",
      "\n",
      "['census', 'state_fact']\n"
     ]
    }
   ],
   "source": [
    "print('The database contains the following tables:\\n')\n",
    "print(engine.table_names())"
   ]
  },
  {
   "cell_type": "code",
   "execution_count": 14,
   "metadata": {},
   "outputs": [
    {
     "name": "stdout",
     "output_type": "stream",
     "text": [
      "Table names: ['census', 'state_fact']\n",
      "Column: state\n",
      "Column: sex\n",
      "Column: age\n",
      "Column: pop2000\n",
      "Column: pop2008\n",
      "Column: id\n",
      "Column: name\n",
      "Column: abbreviation\n",
      "Column: country\n",
      "Column: type\n",
      "Column: sort\n",
      "Column: status\n",
      "Column: occupied\n",
      "Column: notes\n",
      "Column: fips_state\n",
      "Column: assoc_press\n",
      "Column: standard_federal_region\n",
      "Column: census_region\n",
      "Column: census_region_name\n",
      "Column: census_division\n",
      "Column: census_division_name\n",
      "Column: circuit_court\n",
      "Column: VARCHAR(30)\n",
      "Column: VARCHAR(1)\n",
      "Column: INTEGER\n",
      "Column: INTEGER\n",
      "Column: INTEGER\n",
      "Column: VARCHAR(256)\n",
      "Column: VARCHAR(256)\n",
      "Column: VARCHAR(256)\n",
      "Column: VARCHAR(256)\n",
      "Column: VARCHAR(256)\n",
      "Column: VARCHAR(256)\n",
      "Column: VARCHAR(256)\n",
      "Column: VARCHAR(256)\n",
      "Column: VARCHAR(256)\n",
      "Column: VARCHAR(256)\n",
      "Column: VARCHAR(256)\n",
      "Column: VARCHAR(256)\n",
      "Column: VARCHAR(256)\n",
      "Column: VARCHAR(256)\n",
      "Column: VARCHAR(256)\n",
      "Column: VARCHAR(256)\n",
      "Column: VARCHAR(256)\n"
     ]
    }
   ],
   "source": [
    "from sqlalchemy import inspect\n",
    "inspector = inspect(engine)\n",
    "print('Table names:', inspector.get_table_names())\n",
    "# print('Column names:', inspector.get_columns(table_name))\n",
    "for table_name in inspector.get_table_names():\n",
    "    for column in inspector.get_columns(table_name):\n",
    "        print(\"Column: %s\" % column['name'])\n",
    "        \n",
    "        \n",
    "for table_name in inspector.get_table_names():\n",
    "    for column in inspector.get_columns(table_name):\n",
    "        print(\"Column: %s\" % column['type'])"
   ]
  },
  {
   "cell_type": "markdown",
   "metadata": {},
   "source": [
    "## Autoloading Tables from a Database\n",
    "[[go back to the top]](#Table-of-contents)"
   ]
  },
  {
   "cell_type": "markdown",
   "metadata": {},
   "source": [
    "We can use `SQLAlchemy` to automatically load tables from a database using `reflection`, the process of reading the database and building the metadata based on that information. For that we:\n",
    "- Import the `Table` object from the `SQLAlchemy` package. \n",
    "- Use this `Table` object to read your table from the engine and autoload the columns.\n",
    "- To autoload the columns with the engine, you have to specify the keyword arguments `autoload=True` and `autoload_with=engine` to `Table()`.\n",
    "\n",
    "We will reflect the census table available on our engine into a variable called `census`. The metadata has already been loaded for you using `MetaData()` and is available in the variable `metadata`."
   ]
  },
  {
   "cell_type": "code",
   "execution_count": 19,
   "metadata": {},
   "outputs": [],
   "source": [
    "from sqlalchemy import MetaData\n",
    "metadata = MetaData()"
   ]
  },
  {
   "cell_type": "code",
   "execution_count": null,
   "metadata": {},
   "outputs": [],
   "source": [
    "metadata.reflect(engine)"
   ]
  },
  {
   "cell_type": "code",
   "execution_count": 21,
   "metadata": {},
   "outputs": [
    {
     "data": {
      "text/plain": [
       "MetaData(bind=None)"
      ]
     },
     "execution_count": 21,
     "metadata": {},
     "output_type": "execute_result"
    }
   ],
   "source": [
    "metadata"
   ]
  },
  {
   "cell_type": "code",
   "execution_count": 22,
   "metadata": {},
   "outputs": [
    {
     "data": {
      "text/plain": [
       "dict_values([Table('census', MetaData(bind=None), Column('state', VARCHAR(length=30), table=<census>), Column('sex', VARCHAR(length=1), table=<census>), Column('age', INTEGER(), table=<census>), Column('pop2000', INTEGER(), table=<census>), Column('pop2008', INTEGER(), table=<census>), schema=None), Table('state_fact', MetaData(bind=None), Column('id', VARCHAR(length=256), table=<state_fact>), Column('name', VARCHAR(length=256), table=<state_fact>), Column('abbreviation', VARCHAR(length=256), table=<state_fact>), Column('country', VARCHAR(length=256), table=<state_fact>), Column('type', VARCHAR(length=256), table=<state_fact>), Column('sort', VARCHAR(length=256), table=<state_fact>), Column('status', VARCHAR(length=256), table=<state_fact>), Column('occupied', VARCHAR(length=256), table=<state_fact>), Column('notes', VARCHAR(length=256), table=<state_fact>), Column('fips_state', VARCHAR(length=256), table=<state_fact>), Column('assoc_press', VARCHAR(length=256), table=<state_fact>), Column('standard_federal_region', VARCHAR(length=256), table=<state_fact>), Column('census_region', VARCHAR(length=256), table=<state_fact>), Column('census_region_name', VARCHAR(length=256), table=<state_fact>), Column('census_division', VARCHAR(length=256), table=<state_fact>), Column('census_division_name', VARCHAR(length=256), table=<state_fact>), Column('circuit_court', VARCHAR(length=256), table=<state_fact>), schema=None)])"
      ]
     },
     "execution_count": 22,
     "metadata": {},
     "output_type": "execute_result"
    }
   ],
   "source": [
    "metadata.tables.values()"
   ]
  },
  {
   "cell_type": "code",
   "execution_count": 23,
   "metadata": {},
   "outputs": [
    {
     "name": "stdout",
     "output_type": "stream",
     "text": [
      "census\n",
      "state\n",
      "sex\n",
      "age\n",
      "pop2000\n",
      "pop2008\n",
      "state_fact\n",
      "id\n",
      "name\n",
      "abbreviation\n",
      "country\n",
      "type\n",
      "sort\n",
      "status\n",
      "occupied\n",
      "notes\n",
      "fips_state\n",
      "assoc_press\n",
      "standard_federal_region\n",
      "census_region\n",
      "census_region_name\n",
      "census_division\n",
      "census_division_name\n",
      "circuit_court\n"
     ]
    }
   ],
   "source": [
    "for table in metadata.tables.values():\n",
    "    print(table.name)\n",
    "    for column in table.c:\n",
    "        print(column.name)"
   ]
  },
  {
   "cell_type": "markdown",
   "metadata": {},
   "source": [
    "- Import the `Table` object from `sqlalchemy`.\n",
    "- Reflect the `census` table by using the `Table` object with the arguments\n",
    "    - The name of the table as a string ('census').\n",
    "    - The metadata, contained in the variable metadata.\n",
    "    - autoload=True\n",
    "    - The engine to autoload with - in this case, engine.\n",
    "Print the details of census using the `repr()` function."
   ]
  },
  {
   "cell_type": "code",
   "execution_count": 24,
   "metadata": {},
   "outputs": [
    {
     "name": "stdout",
     "output_type": "stream",
     "text": [
      "Table('census', MetaData(bind=None), Column('state', VARCHAR(length=30), table=<census>), Column('sex', VARCHAR(length=1), table=<census>), Column('age', INTEGER(), table=<census>), Column('pop2000', INTEGER(), table=<census>), Column('pop2008', INTEGER(), table=<census>), schema=None)\n"
     ]
    }
   ],
   "source": [
    "from sqlalchemy import Table\n",
    "\n",
    "census = Table('census', metadata, autoload=True, autoload_with=engine)\n",
    "\n",
    "# Print census table metadata\n",
    "print(repr(census))"
   ]
  },
  {
   "cell_type": "markdown",
   "metadata": {},
   "source": [
    "### Meaning of `Metadata`\n",
    "\n",
    "MetaData is a container object that keeps together many different features of a database (or multiple databases) being described.\n"
   ]
  },
  {
   "cell_type": "code",
   "execution_count": 38,
   "metadata": {},
   "outputs": [],
   "source": [
    "from sqlalchemy import *\n",
    "\n",
    "metadata = MetaData()"
   ]
  },
  {
   "cell_type": "markdown",
   "metadata": {},
   "source": [
    "To represent a table, use the `Table` class. Its two primary arguments are the table name, then the `MetaData` object which it will be associated with. The remaining positional arguments are mostly Column objects describing each column:"
   ]
  },
  {
   "cell_type": "code",
   "execution_count": 39,
   "metadata": {},
   "outputs": [],
   "source": [
    "user = Table('user', metadata,\n",
    "    Column('user_id', Integer, primary_key=True),\n",
    "    Column('user_name', String(16), nullable=False),\n",
    "    Column('email_address', String(60)),\n",
    "    Column('password', String(20), nullable=False)\n",
    ")"
   ]
  },
  {
   "cell_type": "markdown",
   "metadata": {},
   "source": [
    "Above, a table called user is described, which contains four columns. The primary key of the table consists of the user_id column. Multiple columns may be assigned the primary_key=True flag which denotes a multi-column primary key, known as a composite primary key.\n",
    "\n",
    "Note also that each column describes its datatype using objects corresponding to genericized types, such as Integer and String. SQLAlchemy features dozens of types of varying levels of specificity as well as the ability to create custom types. Documentation on the type system can be found at Column and Data Types."
   ]
  },
  {
   "cell_type": "markdown",
   "metadata": {},
   "source": [
    "### Accessing Tables and Columns\n",
    "The MetaData object contains all of the schema constructs we’ve associated with it. It supports a few methods of accessing these table objects, such as the sorted_tables accessor which returns a list of each Table object in order of foreign key dependency (that is, each table is preceded by all tables which it references):"
   ]
  },
  {
   "cell_type": "code",
   "execution_count": 46,
   "metadata": {},
   "outputs": [
    {
     "data": {
      "text/plain": [
       "[Table('user', MetaData(bind=None), Column('user_id', Integer(), table=<user>, primary_key=True, nullable=False), Column('user_name', String(length=16), table=<user>, nullable=False), Column('email_address', String(length=60), table=<user>), Column('password', String(length=20), table=<user>, nullable=False), schema=None)]"
      ]
     },
     "execution_count": 46,
     "metadata": {},
     "output_type": "execute_result"
    }
   ],
   "source": [
    "metadata.sorted_tables"
   ]
  },
  {
   "cell_type": "code",
   "execution_count": 48,
   "metadata": {},
   "outputs": [
    {
     "name": "stdout",
     "output_type": "stream",
     "text": [
      "user\n"
     ]
    }
   ],
   "source": [
    "for t in metadata.sorted_tables:\n",
    "    print(t.name)"
   ]
  },
  {
   "cell_type": "code",
   "execution_count": null,
   "metadata": {},
   "outputs": [],
   "source": []
  }
 ],
 "metadata": {
  "kernelspec": {
   "display_name": "Python 3",
   "language": "python",
   "name": "python3"
  },
  "language_info": {
   "codemirror_mode": {
    "name": "ipython",
    "version": 3
   },
   "file_extension": ".py",
   "mimetype": "text/x-python",
   "name": "python",
   "nbconvert_exporter": "python",
   "pygments_lexer": "ipython3",
   "version": "3.6.6"
  }
 },
 "nbformat": 4,
 "nbformat_minor": 2
}
